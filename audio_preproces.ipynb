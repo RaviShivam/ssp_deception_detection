{
 "cells": [
  {
   "cell_type": "code",
   "execution_count": 10,
   "metadata": {},
   "outputs": [],
   "source": [
    "from shutil import copyfile\n",
    "import pandas as pd\n",
    "import os\n",
    "\n",
    "audio_path = \"data_audio\"\n",
    "all_files = []\n",
    "game = pd.read_csv(\"project_data/labels.csv\", usecols=[0,3], dtype={\"id\": int, \"game\": int}, index_col=0)\n",
    "control = \"audio_control_group\"\n",
    "test = \"audio_test_group\"\n",
    "\n",
    "for root, dirs, files in os.walk(audio_path):\n",
    "    for f in files:\n",
    "        subject = int(f.strip(\"sub\").strip(\".wav\").split(\"_\")[0])\n",
    "        g = game.loc[subject].values[0]\n",
    "        movdir = control if g==0 else test\n",
    "        movdir = os.path.join(movdir, root.split(\"/\")[1])\n",
    "        if not os.path.exists(movdir):\n",
    "            os.makedirs(movdir)\n",
    "        copyfile(os.path.join(root, f), os.path.join(movdir, f))\n",
    "        "
   ]
  },
  {
   "cell_type": "code",
   "execution_count": 12,
   "metadata": {},
   "outputs": [
    {
     "name": "stdout",
     "output_type": "stream",
     "text": [
      "0.623188405797\n"
     ]
    }
   ],
   "source": [
    "import pickle\n",
    "import numpy as np\n",
    "import pandas as pd\n",
    "from sklearn.metrics import mean_squared_error as mse\n",
    "\n",
    "def deserialize(f):\n",
    "    with open(f, \"rb\") as ser:\n",
    "        return pickle.load(ser)\n",
    "\n",
    "\n",
    "audio_prediction = deserialize(\"audio_prediction.pickle\")\n",
    "results = np.array(audio_prediction.values()).astype(int)\n",
    "print 1 - mse(results[:, 0], results[:, 1])"
   ]
  }
 ],
 "metadata": {
  "kernelspec": {
   "display_name": "Python 2",
   "language": "python",
   "name": "python2"
  },
  "language_info": {
   "codemirror_mode": {
    "name": "ipython",
    "version": 2
   },
   "file_extension": ".py",
   "mimetype": "text/x-python",
   "name": "python",
   "nbconvert_exporter": "python",
   "pygments_lexer": "ipython2",
   "version": "2.7.12"
  }
 },
 "nbformat": 4,
 "nbformat_minor": 2
}
