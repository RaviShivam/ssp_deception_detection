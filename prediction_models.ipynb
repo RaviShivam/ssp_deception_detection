{
 "cells": [
  {
   "cell_type": "markdown",
   "metadata": {},
   "source": [
    "# Audio model evaluation"
   ]
  },
  {
   "cell_type": "code",
   "execution_count": 2,
   "metadata": {},
   "outputs": [],
   "source": [
    "import os\n",
    "import pickle\n",
    "import pandas as pd\n",
    "from pyAudioAnalysis import audioTrainTest as aT\n",
    "\n",
    "labels = pd.read_csv(\"project_data/labels.csv\", usecols=[0,1], dtype={\"id\": int, \"label\": str}, index_col=0)\n",
    "\n",
    "def get_label_by_story(subject, story):\n",
    "    return labels.loc[subject].values[0][story-1]\n",
    "\n",
    "def lou_cross_validation_audio(audio_path, save_results=None):\n",
    "    save_results = audio_path if save_results==None else save_results\n",
    "    all_files = []\n",
    "    for root, dirs, files in os.walk(audio_path):\n",
    "        for f in files:\n",
    "            all_files.append(os.path.join(root, f))\n",
    "    predictions = {}\n",
    "    for trfile in all_files:\n",
    "        originalname = trfile\n",
    "        inter = originalname.split(\"/\")[-1].strip(\"sub\").strip(\".wav\").split(\"_\")\n",
    "        sub, st = int(inter[0]), int(inter[1])\n",
    "        movedname = originalname.replace(originalname.split(\"/\")[1], \"fold\")\n",
    "        os.rename(originalname, movedname)\n",
    "        aT.featureAndTrain([audio_path + \"/lie\", audio_path + \"/truth\"], 1.0, 1.0, aT.shortTermWindow, aT.shortTermStep, \"svm\", \"audio_models/svm/svm\", True)\n",
    "        prediction = aT.fileClassification(movedname, \"audio_models/svm/svm\", \"svm\")[1][1]\n",
    "        prediction = 1 if prediction>0.5 else 0\n",
    "        predictions[(sub, st)] = [prediction, get_label_by_story(sub, st)]\n",
    "        os.rename(movedname, originalname)\n",
    "\n",
    "    with open(save_results + \".pickle\", \"wb\") as f:\n",
    "        pickle.dump(predictions, f)\n",
    "\n",
    "control_group = \"audio_control_group\"\n",
    "test_group = \"audio_test_group\"\n",
    "lou_cross_validation_audio(control_group)\n",
    "lou_cross_validation_audio(test_group)"
   ]
  },
  {
   "cell_type": "code",
   "execution_count": 40,
   "metadata": {},
   "outputs": [],
   "source": [
    "import pickle\n",
    "import numpy as np\n",
    "import pandas as pd\n",
    "from sklearn.metrics import mean_squared_error as mse\n",
    "\n",
    "def deserialize(f):\n",
    "    with open(f, \"rb\") as ser:\n",
    "        return pickle.load(ser)\n",
    "\n",
    "\n",
    "def evaluate_predictions(filein):\n",
    "    audio_prediction = deserialize(filein)\n",
    "    results = np.array(audio_prediction.values()).astype(int)\n",
    "#     results mse(results[:, 0], results[:, 1])\n",
    "    results = results[:, 0] - results[:, 1]\n",
    "    results = (len(audio_prediction) - sum(abs(results)))/float(len(audio_prediction))\n",
    "    print \"Correct classification rate of {}: {:.4f}%\".format(filein.strip(\".pickle\"), results*100)\n",
    "\n",
    "# evaluate_predictions(\"audio_control_group.pickle\")\n",
    "# evaluate_predictions(\"audio_test_group.pickle\")\n",
    "evaluate_predictions(\"audio_complete_group.pickle\")\n"
   ]
  },
  {
   "cell_type": "markdown",
   "metadata": {},
   "source": [
    "# Thermal model evaluation"
   ]
  }
 ],
 "metadata": {
  "kernelspec": {
   "display_name": "Python 2",
   "language": "python",
   "name": "python2"
  },
  "language_info": {
   "codemirror_mode": {
    "name": "ipython",
    "version": 2
   },
   "file_extension": ".py",
   "mimetype": "text/x-python",
   "name": "python",
   "nbconvert_exporter": "python",
   "pygments_lexer": "ipython2",
   "version": "2.7.12"
  }
 },
 "nbformat": 4,
 "nbformat_minor": 2
}
